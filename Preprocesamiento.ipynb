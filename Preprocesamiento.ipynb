{
 "cells": [
  {
   "cell_type": "markdown",
   "id": "modular-crown",
   "metadata": {},
   "source": [
    "# INTENTO No 1"
   ]
  },
  {
   "cell_type": "code",
   "execution_count": 1,
   "id": "00f747c9-7463-40b1-8e59-ada1385bbbca",
   "metadata": {},
   "outputs": [],
   "source": [
    "import numpy as np\n",
    "import pandas as pd\n",
    "import random"
   ]
  },
  {
   "cell_type": "code",
   "execution_count": 2,
   "id": "2120bec1-e190-4005-8deb-d1317b92c23f",
   "metadata": {},
   "outputs": [
    {
     "name": "stderr",
     "output_type": "stream",
     "text": [
      "c:\\Users\\Jonathan Diaz\\anaconda3\\lib\\site-packages\\IPython\\core\\interactiveshell.py:3165: DtypeWarning: Columns (77,80,81,82,83) have mixed types.Specify dtype option on import or set low_memory=False.\n",
      "  has_raised = await self.run_ast_nodes(code_ast.body, cell_name,\n"
     ]
    }
   ],
   "source": [
    "df = pd.read_csv('icfes_data.csv', sep='\\t')"
   ]
  },
  {
   "cell_type": "code",
   "execution_count": 3,
   "id": "1cbe1725-b93a-46c7-a150-6758c3cd5fb8",
   "metadata": {},
   "outputs": [
    {
     "name": "stdout",
     "output_type": "stream",
     "text": [
      "El dataset tiene 84 columnas\n"
     ]
    }
   ],
   "source": [
    "columns = df.columns\n",
    "print('El dataset tiene '+str(len(columns))+' columnas')"
   ]
  },
  {
   "cell_type": "code",
   "execution_count": 4,
   "id": "fa3e7b83",
   "metadata": {},
   "outputs": [
    {
     "data": {
      "text/html": [
       "<div>\n",
       "<style scoped>\n",
       "    .dataframe tbody tr th:only-of-type {\n",
       "        vertical-align: middle;\n",
       "    }\n",
       "\n",
       "    .dataframe tbody tr th {\n",
       "        vertical-align: top;\n",
       "    }\n",
       "\n",
       "    .dataframe thead th {\n",
       "        text-align: right;\n",
       "    }\n",
       "</style>\n",
       "<table border=\"1\" class=\"dataframe\">\n",
       "  <thead>\n",
       "    <tr style=\"text-align: right;\">\n",
       "      <th></th>\n",
       "      <th>ESTU_CONSECUTIVO</th>\n",
       "      <th>ESTU_TIPODOCUMENTO</th>\n",
       "      <th>ESTU_NACIONALIDAD</th>\n",
       "      <th>ESTU_GENERO</th>\n",
       "      <th>ESTU_FECHANACIMIENTO</th>\n",
       "      <th>PERIODO</th>\n",
       "      <th>ESTU_ESTUDIANTE</th>\n",
       "      <th>ESTU_PAIS_RESIDE</th>\n",
       "      <th>ESTU_TIENEETNIA</th>\n",
       "      <th>ESTU_DEPTO_RESIDE</th>\n",
       "    </tr>\n",
       "  </thead>\n",
       "  <tbody>\n",
       "    <tr>\n",
       "      <th>0</th>\n",
       "      <td>SB11202040001656</td>\n",
       "      <td>TI</td>\n",
       "      <td>COLOMBIA</td>\n",
       "      <td>M</td>\n",
       "      <td>03/07/2003</td>\n",
       "      <td>20204</td>\n",
       "      <td>ESTUDIANTE</td>\n",
       "      <td>COLOMBIA</td>\n",
       "      <td>No</td>\n",
       "      <td>CALDAS</td>\n",
       "    </tr>\n",
       "    <tr>\n",
       "      <th>1</th>\n",
       "      <td>SB11202040001763</td>\n",
       "      <td>TI</td>\n",
       "      <td>COLOMBIA</td>\n",
       "      <td>F</td>\n",
       "      <td>16/06/2003</td>\n",
       "      <td>20204</td>\n",
       "      <td>ESTUDIANTE</td>\n",
       "      <td>COLOMBIA</td>\n",
       "      <td>No</td>\n",
       "      <td>BOGOTÁ</td>\n",
       "    </tr>\n",
       "    <tr>\n",
       "      <th>2</th>\n",
       "      <td>SB11202040001490</td>\n",
       "      <td>TI</td>\n",
       "      <td>COLOMBIA</td>\n",
       "      <td>F</td>\n",
       "      <td>11/09/2003</td>\n",
       "      <td>20204</td>\n",
       "      <td>ESTUDIANTE</td>\n",
       "      <td>COLOMBIA</td>\n",
       "      <td>No</td>\n",
       "      <td>BOGOTÁ</td>\n",
       "    </tr>\n",
       "    <tr>\n",
       "      <th>3</th>\n",
       "      <td>SB11202040096445</td>\n",
       "      <td>TI</td>\n",
       "      <td>COLOMBIA</td>\n",
       "      <td>M</td>\n",
       "      <td>05/03/2004</td>\n",
       "      <td>20204</td>\n",
       "      <td>ESTUDIANTE</td>\n",
       "      <td>COLOMBIA</td>\n",
       "      <td>No</td>\n",
       "      <td>BOGOTÁ</td>\n",
       "    </tr>\n",
       "    <tr>\n",
       "      <th>4</th>\n",
       "      <td>SB11202040048154</td>\n",
       "      <td>TI</td>\n",
       "      <td>COLOMBIA</td>\n",
       "      <td>M</td>\n",
       "      <td>30/08/2003</td>\n",
       "      <td>20204</td>\n",
       "      <td>ESTUDIANTE</td>\n",
       "      <td>COLOMBIA</td>\n",
       "      <td>No</td>\n",
       "      <td>TOLIMA</td>\n",
       "    </tr>\n",
       "  </tbody>\n",
       "</table>\n",
       "</div>"
      ],
      "text/plain": [
       "   ESTU_CONSECUTIVO ESTU_TIPODOCUMENTO ESTU_NACIONALIDAD ESTU_GENERO  \\\n",
       "0  SB11202040001656                 TI          COLOMBIA           M   \n",
       "1  SB11202040001763                 TI          COLOMBIA           F   \n",
       "2  SB11202040001490                 TI          COLOMBIA           F   \n",
       "3  SB11202040096445                 TI          COLOMBIA           M   \n",
       "4  SB11202040048154                 TI          COLOMBIA           M   \n",
       "\n",
       "  ESTU_FECHANACIMIENTO  PERIODO ESTU_ESTUDIANTE ESTU_PAIS_RESIDE  \\\n",
       "0           03/07/2003    20204      ESTUDIANTE         COLOMBIA   \n",
       "1           16/06/2003    20204      ESTUDIANTE         COLOMBIA   \n",
       "2           11/09/2003    20204      ESTUDIANTE         COLOMBIA   \n",
       "3           05/03/2004    20204      ESTUDIANTE         COLOMBIA   \n",
       "4           30/08/2003    20204      ESTUDIANTE         COLOMBIA   \n",
       "\n",
       "  ESTU_TIENEETNIA ESTU_DEPTO_RESIDE  \n",
       "0              No            CALDAS  \n",
       "1              No            BOGOTÁ  \n",
       "2              No            BOGOTÁ  \n",
       "3              No            BOGOTÁ  \n",
       "4              No            TOLIMA  "
      ]
     },
     "execution_count": 4,
     "metadata": {},
     "output_type": "execute_result"
    }
   ],
   "source": [
    "df[columns[0:10]].head()"
   ]
  },
  {
   "cell_type": "code",
   "execution_count": 5,
   "id": "07aecad4",
   "metadata": {},
   "outputs": [
    {
     "name": "stdout",
     "output_type": "stream",
     "text": [
      "Porcentaje de valores únicos de al columna ESTU-CONSECUTIVO:\n"
     ]
    },
    {
     "data": {
      "text/plain": [
       "100.0"
      ]
     },
     "execution_count": 5,
     "metadata": {},
     "output_type": "execute_result"
    }
   ],
   "source": [
    "print('Porcentaje de valores únicos de al columna ESTU-CONSECUTIVO:')\n",
    "len(df['ESTU_CONSECUTIVO'].unique())/len(df)*100"
   ]
  },
  {
   "cell_type": "code",
   "execution_count": 6,
   "id": "6666dea1",
   "metadata": {},
   "outputs": [
    {
     "name": "stdout",
     "output_type": "stream",
     "text": [
      "Porcentaje de registros dependiendo del tipo de documento:\n"
     ]
    },
    {
     "data": {
      "text/plain": [
       "TI      81.506646\n",
       "CC      16.912627\n",
       "CR       1.161713\n",
       "CE       0.204901\n",
       "NES      0.149934\n",
       "PEP      0.042726\n",
       "PE       0.017090\n",
       "RC       0.002606\n",
       "PC       0.001212\n",
       "CCB      0.000242\n",
       "NUIP     0.000121\n",
       "V        0.000121\n",
       "NIP      0.000061\n",
       "Name: ESTU_TIPODOCUMENTO, dtype: float64"
      ]
     },
     "execution_count": 6,
     "metadata": {},
     "output_type": "execute_result"
    }
   ],
   "source": [
    "print('Porcentaje de registros dependiendo del tipo de documento:')\n",
    "df['ESTU_TIPODOCUMENTO'].value_counts()/len(df)*100"
   ]
  },
  {
   "cell_type": "code",
   "execution_count": 7,
   "id": "distributed-merit",
   "metadata": {},
   "outputs": [
    {
     "name": "stdout",
     "output_type": "stream",
     "text": [
      "Porcentaje de personas que tomaron la prueba dependiendo de la nacionalidad:\n"
     ]
    },
    {
     "data": {
      "text/plain": [
       "COLOMBIA          99.684133\n",
       "VENEZUELA          0.265687\n",
       "ESTADOS UNIDOS     0.013272\n",
       "ESPAÑA             0.008000\n",
       "ECUADOR            0.006060\n",
       "                    ...    \n",
       "ARABIA SAUDITA     0.000061\n",
       "NAMIBIA            0.000061\n",
       "PARAGUAY           0.000061\n",
       "LITUANIA           0.000061\n",
       "NORUEGA            0.000061\n",
       "Name: ESTU_NACIONALIDAD, Length: 61, dtype: float64"
      ]
     },
     "execution_count": 7,
     "metadata": {},
     "output_type": "execute_result"
    }
   ],
   "source": [
    "print('Porcentaje de personas que tomaron la prueba dependiendo de la nacionalidad:')\n",
    "df['ESTU_NACIONALIDAD'].value_counts()/len(df)*100"
   ]
  },
  {
   "cell_type": "code",
   "execution_count": 8,
   "id": "6f1943c6",
   "metadata": {},
   "outputs": [
    {
     "name": "stdout",
     "output_type": "stream",
     "text": [
      "Porcentaje de hombres y mujeres\n"
     ]
    },
    {
     "data": {
      "text/plain": [
       "F    0.542097\n",
       "M    0.457833\n",
       "Name: ESTU_GENERO, dtype: float64"
      ]
     },
     "execution_count": 8,
     "metadata": {},
     "output_type": "execute_result"
    }
   ],
   "source": [
    "print('Porcentaje de hombres y mujeres')\n",
    "df['ESTU_GENERO'].value_counts()/len(df)"
   ]
  },
  {
   "cell_type": "code",
   "execution_count": 9,
   "id": "457de1cd",
   "metadata": {},
   "outputs": [
    {
     "name": "stdout",
     "output_type": "stream",
     "text": [
      "Porcentaje exámenes presentados por periodo académico:\n"
     ]
    },
    {
     "data": {
      "text/plain": [
       "20182    0.333281\n",
       "20194    0.331025\n",
       "20204    0.305971\n",
       "20191    0.012777\n",
       "20201    0.009354\n",
       "20181    0.007592\n",
       "Name: PERIODO, dtype: float64"
      ]
     },
     "execution_count": 9,
     "metadata": {},
     "output_type": "execute_result"
    }
   ],
   "source": [
    "print('Porcentaje exámenes presentados por periodo académico:')\n",
    "df['PERIODO'].value_counts()/len(df)"
   ]
  },
  {
   "cell_type": "code",
   "execution_count": 10,
   "id": "133d6fbe",
   "metadata": {},
   "outputs": [
    {
     "name": "stdout",
     "output_type": "stream",
     "text": [
      "Columna innecesaria\n"
     ]
    },
    {
     "data": {
      "text/plain": [
       "ESTUDIANTE    1650063\n",
       "Name: ESTU_ESTUDIANTE, dtype: int64"
      ]
     },
     "execution_count": 10,
     "metadata": {},
     "output_type": "execute_result"
    }
   ],
   "source": [
    "print('Columna innecesaria')\n",
    "df['ESTU_ESTUDIANTE'].value_counts()"
   ]
  },
  {
   "cell_type": "code",
   "execution_count": 11,
   "id": "burning-sweet",
   "metadata": {},
   "outputs": [
    {
     "name": "stdout",
     "output_type": "stream",
     "text": [
      "Porcentaje de estudiantes por pais de residencia:\n"
     ]
    },
    {
     "data": {
      "text/plain": [
       "COLOMBIA          99.684133\n",
       "VENEZUELA          0.265687\n",
       "ESTADOS UNIDOS     0.013272\n",
       "ESPAÑA             0.008000\n",
       "ECUADOR            0.006060\n",
       "                    ...    \n",
       "ARABIA SAUDITA     0.000061\n",
       "NAMIBIA            0.000061\n",
       "PARAGUAY           0.000061\n",
       "LITUANIA           0.000061\n",
       "NORUEGA            0.000061\n",
       "Name: ESTU_PAIS_RESIDE, Length: 61, dtype: float64"
      ]
     },
     "execution_count": 11,
     "metadata": {},
     "output_type": "execute_result"
    }
   ],
   "source": [
    "print('Porcentaje de estudiantes por pais de residencia:')\n",
    "df['ESTU_PAIS_RESIDE'].value_counts()/len(df)*100"
   ]
  },
  {
   "cell_type": "code",
   "execution_count": 12,
   "id": "requested-gilbert",
   "metadata": {},
   "outputs": [
    {
     "name": "stdout",
     "output_type": "stream",
     "text": [
      "Porcentaje de estudiantes que tienen etnia:\n"
     ]
    },
    {
     "data": {
      "text/plain": [
       "No    93.198926\n",
       "Si     6.541205\n",
       "Name: ESTU_TIENEETNIA, dtype: float64"
      ]
     },
     "execution_count": 12,
     "metadata": {},
     "output_type": "execute_result"
    }
   ],
   "source": [
    "print('Porcentaje de estudiantes que tienen etnia:')\n",
    "df['ESTU_TIENEETNIA'].value_counts()/len(df)*100"
   ]
  },
  {
   "cell_type": "code",
   "execution_count": 13,
   "id": "133d6fbe",
   "metadata": {},
   "outputs": [
    {
     "name": "stdout",
     "output_type": "stream",
     "text": [
      "Departamentos:\n"
     ]
    },
    {
     "data": {
      "text/plain": [
       "array(['CALDAS', 'BOGOTÁ', 'TOLIMA', 'CESAR', 'ANTIOQUIA', 'CAUCA',\n",
       "       'CUNDINAMARCA', 'ATLANTICO', 'META', 'RISARALDA', 'BOLIVAR',\n",
       "       'LA GUAJIRA', 'VALLE', 'NORTE SANTANDER', 'NARIÑO', 'BOYACA',\n",
       "       'SANTANDER', 'HUILA', 'CAQUETA', 'CASANARE', 'CORDOBA',\n",
       "       'SAN ANDRES', 'ARAUCA', 'SUCRE', 'QUINDIO', 'MAGDALENA',\n",
       "       'PUTUMAYO', 'CHOCO', 'GUAVIARE', 'AMAZONAS', 'VICHADA', 'VAUPES',\n",
       "       'GUAINIA', 'EXTRANJERO', nan, 'BOGOTA'], dtype=object)"
      ]
     },
     "execution_count": 13,
     "metadata": {},
     "output_type": "execute_result"
    }
   ],
   "source": [
    "print('Departamentos:')\n",
    "df['ESTU_DEPTO_RESIDE'].unique()"
   ]
  },
  {
   "cell_type": "code",
   "execution_count": 14,
   "id": "133d6fbe",
   "metadata": {},
   "outputs": [
    {
     "name": "stdout",
     "output_type": "stream",
     "text": [
      "Codigos Departamentos:\n"
     ]
    },
    {
     "data": {
      "text/plain": [
       "0          17.0\n",
       "1          11.0\n",
       "2          11.0\n",
       "3          11.0\n",
       "4          73.0\n",
       "           ... \n",
       "1650058    76.0\n",
       "1650059    76.0\n",
       "1650060    11.0\n",
       "1650061    54.0\n",
       "1650062    76.0\n",
       "Name: ESTU_COD_RESIDE_DEPTO, Length: 1650063, dtype: float64"
      ]
     },
     "execution_count": 14,
     "metadata": {},
     "output_type": "execute_result"
    }
   ],
   "source": [
    "print('Codigos Departamentos:')\n",
    "df['ESTU_COD_RESIDE_DEPTO']"
   ]
  },
  {
   "cell_type": "code",
   "execution_count": 15,
   "id": "133d6fbe",
   "metadata": {},
   "outputs": [
    {
     "name": "stdout",
     "output_type": "stream",
     "text": [
      "Municipios:\n"
     ]
    },
    {
     "data": {
      "text/plain": [
       "array(['CHINCHINÁ', 'BOGOTÁ D.C.', 'GUAMO', ..., 'TUNUNGUÁ', 'MORICHAL',\n",
       "       'MAPIRIPANA'], dtype=object)"
      ]
     },
     "execution_count": 15,
     "metadata": {},
     "output_type": "execute_result"
    }
   ],
   "source": [
    "print('Municipios:')\n",
    "df['ESTU_MCPIO_RESIDE'].unique()"
   ]
  },
  {
   "cell_type": "code",
   "execution_count": 16,
   "id": "133d6fbe",
   "metadata": {},
   "outputs": [
    {
     "name": "stdout",
     "output_type": "stream",
     "text": [
      "Código Municipios:\n"
     ]
    },
    {
     "data": {
      "text/plain": [
       "1120"
      ]
     },
     "execution_count": 16,
     "metadata": {},
     "output_type": "execute_result"
    }
   ],
   "source": [
    "print('Código Municipios:')\n",
    "len(df['ESTU_COD_RESIDE_MCPIO'].unique())"
   ]
  },
  {
   "cell_type": "code",
   "execution_count": 17,
   "id": "133d6fbe",
   "metadata": {},
   "outputs": [
    {
     "name": "stdout",
     "output_type": "stream",
     "text": [
      "Estratos de vivienda estudiantes:\n"
     ]
    },
    {
     "data": {
      "text/plain": [
       "array(['Estrato 5', 'Estrato 3', 'Estrato 1', 'Sin Estrato', 'Estrato 2',\n",
       "       'Estrato 4', nan, 'Estrato 6'], dtype=object)"
      ]
     },
     "execution_count": 17,
     "metadata": {},
     "output_type": "execute_result"
    }
   ],
   "source": [
    "print('Estratos de vivienda estudiantes:')\n",
    "df['FAMI_ESTRATOVIVIENDA'].unique()"
   ]
  },
  {
   "cell_type": "code",
   "execution_count": 18,
   "id": "133d6fbe",
   "metadata": {},
   "outputs": [
    {
     "name": "stdout",
     "output_type": "stream",
     "text": [
      "Cantidad de personas en el hogar:\n"
     ]
    },
    {
     "data": {
      "text/plain": [
       "3 a 4      47.335950\n",
       "5 a 6      30.809066\n",
       "7 a 8       8.148659\n",
       "1 a 2       7.289116\n",
       "9 o más     3.241210\n",
       "Name: FAMI_PERSONASHOGAR, dtype: float64"
      ]
     },
     "execution_count": 18,
     "metadata": {},
     "output_type": "execute_result"
    }
   ],
   "source": [
    "print('Cantidad de personas en el hogar:')\n",
    "df['FAMI_PERSONASHOGAR'].value_counts()/len(df)*100"
   ]
  },
  {
   "cell_type": "code",
   "execution_count": 19,
   "id": "133d6fbe",
   "metadata": {},
   "outputs": [
    {
     "name": "stdout",
     "output_type": "stream",
     "text": [
      "Cantidad de habitaciones en el hogar:\n"
     ]
    },
    {
     "data": {
      "text/plain": [
       "Tres          37.860979\n",
       "Dos           34.074214\n",
       "Cuatro        13.145316\n",
       "Uno            5.057564\n",
       "Cinco          4.204324\n",
       "Seis o mas     2.309185\n",
       "Name: FAMI_CUARTOSHOGAR, dtype: float64"
      ]
     },
     "execution_count": 19,
     "metadata": {},
     "output_type": "execute_result"
    }
   ],
   "source": [
    "print('Cantidad de habitaciones en el hogar:')\n",
    "df['FAMI_CUARTOSHOGAR'].value_counts()/len(df)*100"
   ]
  },
  {
   "cell_type": "code",
   "execution_count": 20,
   "id": "133d6fbe",
   "metadata": {},
   "outputs": [
    {
     "name": "stdout",
     "output_type": "stream",
     "text": [
      "Eduación del padre:\n"
     ]
    },
    {
     "data": {
      "text/plain": [
       "Secundaria (Bachillerato) completa      21.774441\n",
       "Primaria incompleta                     18.124944\n",
       "Secundaria (Bachillerato) incompleta    12.879690\n",
       "Primaria completa                        9.648177\n",
       "Educación profesional completa           9.217103\n",
       "Técnica o tecnológica completa           6.451208\n",
       "No sabe                                  5.909229\n",
       "Ninguno                                  3.660709\n",
       "Postgrado                                2.213128\n",
       "Técnica o tecnológica incompleta         1.962652\n",
       "Educación profesional incompleta         1.930169\n",
       "No Aplica                                1.233892\n",
       "Name: FAMI_EDUCACIONPADRE, dtype: float64"
      ]
     },
     "execution_count": 20,
     "metadata": {},
     "output_type": "execute_result"
    }
   ],
   "source": [
    "print('Eduación del padre:')\n",
    "df['FAMI_EDUCACIONPADRE'].value_counts()/len(df)*100"
   ]
  },
  {
   "cell_type": "code",
   "execution_count": 21,
   "id": "133d6fbe",
   "metadata": {},
   "outputs": [
    {
     "name": "stdout",
     "output_type": "stream",
     "text": [
      "Eduación de la madre:\n"
     ]
    },
    {
     "data": {
      "text/plain": [
       "Secundaria (Bachillerato) completa      25.104738\n",
       "Primaria incompleta                     14.208670\n",
       "Secundaria (Bachillerato) incompleta    13.690386\n",
       "Educación profesional completa          10.840738\n",
       "Técnica o tecnológica completa           9.650904\n",
       "Primaria completa                        9.607209\n",
       "Técnica o tecnológica incompleta         2.892132\n",
       "Postgrado                                2.434695\n",
       "Educación profesional incompleta         2.371667\n",
       "Ninguno                                  2.279004\n",
       "No sabe                                  1.723571\n",
       "No Aplica                                0.194356\n",
       "Name: FAMI_EDUCACIONMADRE, dtype: float64"
      ]
     },
     "execution_count": 21,
     "metadata": {},
     "output_type": "execute_result"
    }
   ],
   "source": [
    "print('Eduación de la madre:')\n",
    "df['FAMI_EDUCACIONMADRE'].value_counts()/len(df)*100"
   ]
  },
  {
   "cell_type": "code",
   "execution_count": 52,
   "id": "133d6fbe",
   "metadata": {},
   "outputs": [
    {
     "name": "stdout",
     "output_type": "stream",
     "text": [
      "Eduación de la madre:\n"
     ]
    },
    {
     "data": {
      "text/plain": [
       "Es agricultor, pesquero o jornalero                                                                     13.662630\n",
       "Trabaja por cuenta propia (por ejemplo plomero, electricista)                                           11.017640\n",
       "Es dueño de un negocio pequeño (tiene pocos empleados o no tiene, por ejemplo tienda, papelería, etc    10.809527\n",
       "Es operario de máquinas o conduce vehículos (taxita, chofer)                                             9.831928\n",
       "No sabe                                                                                                  8.539795\n",
       "Trabaja como profesional (por ejemplo médico, abogado, ingeniero)                                        8.059510\n",
       "Trabaja como personal de limpieza, mantenimiento, seguridad o construcción                               6.925675\n",
       "Trabaja en el hogar, no trabaja o estudia                                                                6.197642\n",
       "No aplica                                                                                                5.937773\n",
       "Es vendedor o trabaja en atención al público                                                             5.914138\n",
       "Tiene un trabajo de tipo auxiliar administrativo (por ejemplo, secretario o asistente)                   4.180689\n",
       "Es dueño de un negocio grande, tiene un cargo de nivel directivo o gerencial                             2.723896\n",
       "Pensionado                                                                                               2.435483\n",
       "Name: FAMI_TRABAJOLABORPADRE, dtype: float64"
      ]
     },
     "execution_count": 52,
     "metadata": {},
     "output_type": "execute_result"
    }
   ],
   "source": [
    "print('Eduación de la madre:')\n",
    "df['FAMI_TRABAJOLABORPADRE'].value_counts()/len(df)*100"
   ]
  },
  {
   "cell_type": "code",
   "execution_count": 23,
   "id": "2293df26",
   "metadata": {},
   "outputs": [
    {
     "data": {
      "text/plain": [
       "array(['Peor', 'Igual', 'Mejor', nan], dtype=object)"
      ]
     },
     "execution_count": 23,
     "metadata": {},
     "output_type": "execute_result"
    }
   ],
   "source": [
    "df['FAMI_SITUACIONECONOMICA'].unique()"
   ]
  },
  {
   "cell_type": "code",
   "execution_count": 24,
   "id": "1ed2a00b",
   "metadata": {},
   "outputs": [
    {
     "data": {
      "text/plain": [
       "NO                                         838906\n",
       "GENERACION E - GRATUIDAD                   784015\n",
       "GENERACION E - EXCELENCIA NACIONAL          14141\n",
       "GENERACION E - EXCELENCIA DEPARTAMENTAL       474\n",
       "Name: ESTU_GENERACION-E, dtype: int64"
      ]
     },
     "execution_count": 24,
     "metadata": {},
     "output_type": "execute_result"
    }
   ],
   "source": [
    "df['ESTU_GENERACION-E'].value_counts()"
   ]
  },
  {
   "cell_type": "code",
   "execution_count": 25,
   "id": "7b48f84b",
   "metadata": {},
   "outputs": [
    {
     "ename": "NameError",
     "evalue": "name 'ESTU_NACIONALIDAD' is not defined",
     "output_type": "error",
     "traceback": [
      "\u001b[1;31m---------------------------------------------------------------------------\u001b[0m",
      "\u001b[1;31mNameError\u001b[0m                                 Traceback (most recent call last)",
      "\u001b[1;32m<ipython-input-25-f653884f4a01>\u001b[0m in \u001b[0;36m<module>\u001b[1;34m\u001b[0m\n\u001b[0;32m      1\u001b[0m \u001b[1;31m# ESTU_CONSECUTIVO\u001b[0m\u001b[1;33m\u001b[0m\u001b[1;33m\u001b[0m\u001b[1;33m\u001b[0m\u001b[0m\n\u001b[0;32m      2\u001b[0m \u001b[1;31m# ESTU_TIPODOCUMENTO\u001b[0m\u001b[1;33m\u001b[0m\u001b[1;33m\u001b[0m\u001b[1;33m\u001b[0m\u001b[0m\n\u001b[1;32m----> 3\u001b[1;33m \u001b[0mESTU_NACIONALIDAD\u001b[0m \u001b[1;31m#Quedarse solo con colombianos\u001b[0m\u001b[1;33m\u001b[0m\u001b[1;33m\u001b[0m\u001b[0m\n\u001b[0m\u001b[0;32m      4\u001b[0m \u001b[0mESTU_GENERO\u001b[0m\u001b[1;33m\u001b[0m\u001b[1;33m\u001b[0m\u001b[0m\n\u001b[0;32m      5\u001b[0m \u001b[0mESTU_FECHANACIMIENTO\u001b[0m\u001b[1;33m\u001b[0m\u001b[1;33m\u001b[0m\u001b[0m\n",
      "\u001b[1;31mNameError\u001b[0m: name 'ESTU_NACIONALIDAD' is not defined"
     ]
    }
   ],
   "source": [
    "# ESTU_CONSECUTIVO\n",
    "# ESTU_TIPODOCUMENTO\n",
    "ESTU_NACIONALIDAD #Quedarse solo con colombianos\n",
    "ESTU_GENERO\n",
    "ESTU_FECHANACIMIENTO\n",
    "PERIODO\n",
    "# ESTU_ESTUDIANTE\n",
    "ESTU_PAIS_RESIDE #Quedarse solo con residentes en colombia\n",
    "ESTU_TIENEETNIA \n",
    "ESTU_DEPTO_RESIDE\n",
    "# ESTU_COD_RESIDE_DEPTO\n",
    "ESTU_MCPIO_RESIDE\n",
    "# ESTU_COD_RESIDE_MCPIO\n",
    "FAMI_ESTRATOVIVIENDA\n",
    "# FAMI_PERSONASHOGAR\n",
    "# FAMI_CUARTOSHOGAR\n",
    "FAMI_EDUCACIONPADRE\n",
    "FAMI_EDUCACIONMADRE\n",
    "# FAMI_TRABAJOLABORPADRE\n",
    "# FAMI_TRABAJOLABORMADRE\n",
    "FAMI_TIENEINTERNET\n",
    "# FAMI_TIENESERVICIOTV\n",
    "FAMI_TIENECOMPUTADOR\n",
    "# FAMI_TIENELAVADORA\n",
    "# FAMI_TIENEHORNOMICROOGAS\n",
    "# FAMI_TIENEAUTOMOVIL\n",
    "# FAMI_TIENEMOTOCICLETA\n",
    "# FAMI_TIENECONSOLAVIDEOJUEGOS\n",
    "# FAMI_NUMLIBROS\n",
    "# FAMI_COMELECHEDERIVADOS\n",
    "# FAMI_COMECARNEPESCADOHUEVO\n",
    "# FAMI_COMECEREALFRUTOSLEGUMBRE\n",
    "FAMI_SITUACIONECONOMICA\n",
    "# ESTU_DEDICACIONLECTURADIARIA\n",
    "# ESTU_DEDICACIONINTERNET\n",
    "# ESTU_HORASSEMANATRABAJA\n",
    "# ESTU_TIPOREMUNERACION\n",
    "# COLE_CODIGO_ICFES\n",
    "# COLE_COD_DANE_ESTABLECIMIENTO\n",
    "# COLE_NOMBRE_ESTABLECIMIENTO\n",
    "# COLE_GENERO\n",
    "# COLE_NATURALEZA\n",
    "# COLE_CALENDARIO\n",
    "# COLE_BILINGUE\n",
    "# COLE_CARACTER\n",
    "# COLE_COD_DANE_SEDE\n",
    "# COLE_NOMBRE_SEDE\n",
    "# COLE_SEDE_PRINCIPAL\n",
    "# COLE_AREA_UBICACION\n",
    "# COLE_JORNADA\n",
    "# COLE_COD_MCPIO_UBICACION\n",
    "# COLE_MCPIO_UBICACION\n",
    "# COLE_COD_DEPTO_UBICACION\n",
    "# COLE_DEPTO_UBICACION\n",
    "# ESTU_PRIVADO_LIBERTAD\n",
    "# ESTU_COD_MCPIO_PRESENTACION\n",
    "# ESTU_MCPIO_PRESENTACION\n",
    "# ESTU_DEPTO_PRESENTACION\n",
    "# ESTU_COD_DEPTO_PRESENTACION\n",
    "PUNT_LECTURA_CRITICA\n",
    "# PERCENTIL_LECTURA_CRITICA\n",
    "DESEMP_LECTURA_CRITICA\n",
    "PUNT_MATEMATICAS\n",
    "# PERCENTIL_MATEMATICAS\n",
    "DESEMP_MATEMATICAS\n",
    "PUNT_C_NATURALES\n",
    "# PERCENTIL_C_NATURALES\n",
    "DESEMP_C_NATURALES\n",
    "PUNT_SOCIALES_CIUDADANAS\n",
    "# PERCENTIL_SOCIALES_CIUDADANAS\n",
    "DESEMP_SOCIALES_CIUDADANAS\n",
    "PUNT_INGLES\n",
    "# PERCENTIL_INGLES\n",
    "DESEMP_INGLES\n",
    "PUNT_GLOBAL\n",
    "# PERCENTIL_GLOBAL\n",
    "ESTU_INSE_INDIVIDUAL\n",
    "# ESTU_NSE_INDIVIDUAL\n",
    "# ESTU_NSE_ESTABLECIMIENTO\n",
    "# ESTU_ESTADOINVESTIGACION\n",
    "ESTU_GENERACION-E\n",
    "# ESTU_ETNIA\n",
    "# ESTU_PILOPAGA\n",
    "# ESTU_LIMITA_MOTRIZ"
   ]
  },
  {
   "cell_type": "code",
   "execution_count": 27,
   "id": "38cf04e3",
   "metadata": {},
   "outputs": [
    {
     "data": {
      "text/plain": [
       "MIXTO        96.548677\n",
       "FEMENINO      2.626263\n",
       "MASCULINO     0.825059\n",
       "Name: COLE_GENERO, dtype: float64"
      ]
     },
     "execution_count": 27,
     "metadata": {},
     "output_type": "execute_result"
    }
   ],
   "source": [
    "df['COLE_GENERO'].value_counts()/len(df)*100"
   ]
  },
  {
   "cell_type": "code",
   "execution_count": 28,
   "id": "13d7e35f",
   "metadata": {},
   "outputs": [
    {
     "data": {
      "text/plain": [
       "OFICIAL       74.366615\n",
       "NO OFICIAL    25.633385\n",
       "Name: COLE_NATURALEZA, dtype: float64"
      ]
     },
     "execution_count": 28,
     "metadata": {},
     "output_type": "execute_result"
    }
   ],
   "source": [
    "df['COLE_NATURALEZA'].value_counts()/len(df)*100"
   ]
  },
  {
   "cell_type": "code",
   "execution_count": 29,
   "id": "1984b5ab",
   "metadata": {},
   "outputs": [
    {
     "data": {
      "text/plain": [
       "False    84.137091\n",
       "True     15.862909\n",
       "Name: COLE_BILINGUE, dtype: float64"
      ]
     },
     "execution_count": 29,
     "metadata": {},
     "output_type": "execute_result"
    }
   ],
   "source": [
    "df['COLE_BILINGUE'].isna().value_counts()/len(df)*100"
   ]
  },
  {
   "cell_type": "code",
   "execution_count": 30,
   "id": "13d7e35f",
   "metadata": {},
   "outputs": [
    {
     "data": {
      "text/plain": [
       "N    82.531758\n",
       "S     1.605333\n",
       "Name: COLE_BILINGUE, dtype: float64"
      ]
     },
     "execution_count": 30,
     "metadata": {},
     "output_type": "execute_result"
    }
   ],
   "source": [
    "df['COLE_BILINGUE'].value_counts()/len(df)*100"
   ]
  },
  {
   "cell_type": "code",
   "execution_count": 31,
   "id": "13d7e35f",
   "metadata": {},
   "outputs": [
    {
     "data": {
      "text/plain": [
       "ACADÉMICO            52.734290\n",
       "TÉCNICO/ACADÉMICO    32.581362\n",
       "TÉCNICO              10.828071\n",
       "NO APLICA             1.224256\n",
       "Name: COLE_CARACTER, dtype: float64"
      ]
     },
     "execution_count": 31,
     "metadata": {},
     "output_type": "execute_result"
    }
   ],
   "source": [
    "df['COLE_CARACTER'].value_counts()/len(df)*100"
   ]
  },
  {
   "cell_type": "code",
   "execution_count": 32,
   "id": "13d7e35f",
   "metadata": {},
   "outputs": [
    {
     "data": {
      "text/plain": [
       "MAÑANA      45.177427\n",
       "COMPLETA    17.424123\n",
       "UNICA       14.766163\n",
       "TARDE       10.634745\n",
       "SABATINA     6.488783\n",
       "NOCHE        5.508759\n",
       "Name: COLE_JORNADA, dtype: float64"
      ]
     },
     "execution_count": 32,
     "metadata": {},
     "output_type": "execute_result"
    }
   ],
   "source": [
    "df['COLE_JORNADA'].value_counts()/len(df)*100"
   ]
  },
  {
   "cell_type": "code",
   "execution_count": 33,
   "id": "be76a1d5-0ed8-4de4-bfbb-ca25834e9cfa",
   "metadata": {},
   "outputs": [
    {
     "data": {
      "text/plain": [
       "True     1650062\n",
       "False          1\n",
       "Name: ESTU_LIMITA_MOTRIZ, dtype: int64"
      ]
     },
     "execution_count": 33,
     "metadata": {},
     "output_type": "execute_result"
    }
   ],
   "source": [
    "df['ESTU_LIMITA_MOTRIZ'].isna().value_counts()"
   ]
  },
  {
   "cell_type": "code",
   "execution_count": 34,
   "id": "eb563081-b9cb-4114-8f4b-06e308bbeeab",
   "metadata": {},
   "outputs": [
    {
     "data": {
      "text/plain": [
       "True     1637536\n",
       "False      12527\n",
       "Name: ESTU_PILOPAGA, dtype: int64"
      ]
     },
     "execution_count": 34,
     "metadata": {},
     "output_type": "execute_result"
    }
   ],
   "source": [
    "df['ESTU_PILOPAGA'].isna().value_counts()"
   ]
  },
  {
   "cell_type": "code",
   "execution_count": 35,
   "id": "9731d1ed-8070-4c5d-b62d-e988e7bd09cf",
   "metadata": {},
   "outputs": [
    {
     "data": {
      "text/plain": [
       "COLOMBIA          99.684133\n",
       "VENEZUELA          0.265687\n",
       "ESTADOS UNIDOS     0.013272\n",
       "ESPAÑA             0.008000\n",
       "ECUADOR            0.006060\n",
       "                    ...    \n",
       "ARABIA SAUDITA     0.000061\n",
       "NAMIBIA            0.000061\n",
       "PARAGUAY           0.000061\n",
       "LITUANIA           0.000061\n",
       "NORUEGA            0.000061\n",
       "Name: ESTU_NACIONALIDAD, Length: 61, dtype: float64"
      ]
     },
     "execution_count": 35,
     "metadata": {},
     "output_type": "execute_result"
    }
   ],
   "source": [
    "df['ESTU_NACIONALIDAD'].value_counts()/len(df)*100"
   ]
  },
  {
   "cell_type": "code",
   "execution_count": null,
   "id": "9e4344eb",
   "metadata": {},
   "outputs": [],
   "source": []
  },
  {
   "cell_type": "code",
   "execution_count": 47,
   "id": "4a5f4485",
   "metadata": {},
   "outputs": [],
   "source": [
    "#Columnas de interés\n",
    "columnas = [\n",
    "    'ESTU_GENERO',\n",
    "    'ESTU_FECHANACIMIENTO',\n",
    "    'PERIODO',\n",
    "    'ESTU_TIENEETNIA',\n",
    "    'ESTU_DEPTO_RESIDE',\n",
    "    'ESTU_MCPIO_RESIDE',\n",
    "    'FAMI_ESTRATOVIVIENDA',\n",
    "    'FAMI_EDUCACIONPADRE',\n",
    "    'FAMI_EDUCACIONMADRE',\n",
    "    'FAMI_TIENEINTERNET',\n",
    "    'FAMI_TIENECOMPUTADOR',\n",
    "    'FAMI_SITUACIONECONOMICA',\n",
    "    'PUNT_LECTURA_CRITICA',\n",
    "    'DESEMP_LECTURA_CRITICA',\n",
    "    'PUNT_MATEMATICAS',\n",
    "    'DESEMP_MATEMATICAS',\n",
    "    'PUNT_C_NATURALES',\n",
    "    'DESEMP_C_NATURALES',\n",
    "    'PUNT_SOCIALES_CIUDADANAS',\n",
    "    'DESEMP_SOCIALES_CIUDADANAS',\n",
    "    'PUNT_INGLES',\n",
    "    'DESEMP_INGLES',\n",
    "    'PUNT_GLOBAL',\n",
    "    'ESTU_INSE_INDIVIDUAL',\n",
    "    'ESTU_GENERACION-E',\n",
    "]"
   ]
  },
  {
   "cell_type": "code",
   "execution_count": 53,
   "id": "afd8a6e3",
   "metadata": {},
   "outputs": [],
   "source": [
    "df_est = df[columnas]\n",
    "df_est = df_est[(df['ESTU_NACIONALIDAD']=='COLOMBIA') & (df['ESTU_NACIONALIDAD']=='COLOMBIA')]"
   ]
  },
  {
   "cell_type": "markdown",
   "id": "f4d05843",
   "metadata": {},
   "source": [
    "## Análisis preliminar"
   ]
  },
  {
   "cell_type": "code",
   "execution_count": 50,
   "id": "3f80c8c0",
   "metadata": {},
   "outputs": [
    {
     "data": {
      "text/html": [
       "<div>\n",
       "<style scoped>\n",
       "    .dataframe tbody tr th:only-of-type {\n",
       "        vertical-align: middle;\n",
       "    }\n",
       "\n",
       "    .dataframe tbody tr th {\n",
       "        vertical-align: top;\n",
       "    }\n",
       "\n",
       "    .dataframe thead th {\n",
       "        text-align: right;\n",
       "    }\n",
       "</style>\n",
       "<table border=\"1\" class=\"dataframe\">\n",
       "  <thead>\n",
       "    <tr style=\"text-align: right;\">\n",
       "      <th></th>\n",
       "      <th>ESTU_GENERO</th>\n",
       "      <th>ESTU_FECHANACIMIENTO</th>\n",
       "      <th>PERIODO</th>\n",
       "      <th>ESTU_TIENEETNIA</th>\n",
       "      <th>ESTU_DEPTO_RESIDE</th>\n",
       "      <th>ESTU_MCPIO_RESIDE</th>\n",
       "      <th>FAMI_ESTRATOVIVIENDA</th>\n",
       "      <th>FAMI_EDUCACIONPADRE</th>\n",
       "      <th>FAMI_EDUCACIONMADRE</th>\n",
       "      <th>FAMI_TIENEINTERNET</th>\n",
       "      <th>...</th>\n",
       "      <th>DESEMP_MATEMATICAS</th>\n",
       "      <th>PUNT_C_NATURALES</th>\n",
       "      <th>DESEMP_C_NATURALES</th>\n",
       "      <th>PUNT_SOCIALES_CIUDADANAS</th>\n",
       "      <th>DESEMP_SOCIALES_CIUDADANAS</th>\n",
       "      <th>PUNT_INGLES</th>\n",
       "      <th>DESEMP_INGLES</th>\n",
       "      <th>PUNT_GLOBAL</th>\n",
       "      <th>ESTU_INSE_INDIVIDUAL</th>\n",
       "      <th>ESTU_GENERACION-E</th>\n",
       "    </tr>\n",
       "  </thead>\n",
       "  <tbody>\n",
       "    <tr>\n",
       "      <th>0</th>\n",
       "      <td>M</td>\n",
       "      <td>03/07/2003</td>\n",
       "      <td>20204</td>\n",
       "      <td>No</td>\n",
       "      <td>CALDAS</td>\n",
       "      <td>CHINCHINÁ</td>\n",
       "      <td>Estrato 5</td>\n",
       "      <td>Secundaria (Bachillerato) completa</td>\n",
       "      <td>Secundaria (Bachillerato) completa</td>\n",
       "      <td>Si</td>\n",
       "      <td>...</td>\n",
       "      <td>3</td>\n",
       "      <td>50</td>\n",
       "      <td>2</td>\n",
       "      <td>56</td>\n",
       "      <td>3</td>\n",
       "      <td>48.0</td>\n",
       "      <td>A1</td>\n",
       "      <td>261</td>\n",
       "      <td>61.340840</td>\n",
       "      <td>NO</td>\n",
       "    </tr>\n",
       "    <tr>\n",
       "      <th>1</th>\n",
       "      <td>F</td>\n",
       "      <td>16/06/2003</td>\n",
       "      <td>20204</td>\n",
       "      <td>No</td>\n",
       "      <td>BOGOTÁ</td>\n",
       "      <td>BOGOTÁ D.C.</td>\n",
       "      <td>Estrato 3</td>\n",
       "      <td>Postgrado</td>\n",
       "      <td>Educación profesional completa</td>\n",
       "      <td>Si</td>\n",
       "      <td>...</td>\n",
       "      <td>3</td>\n",
       "      <td>63</td>\n",
       "      <td>3</td>\n",
       "      <td>57</td>\n",
       "      <td>3</td>\n",
       "      <td>58.0</td>\n",
       "      <td>A2</td>\n",
       "      <td>306</td>\n",
       "      <td>71.825844</td>\n",
       "      <td>NO</td>\n",
       "    </tr>\n",
       "    <tr>\n",
       "      <th>2</th>\n",
       "      <td>F</td>\n",
       "      <td>11/09/2003</td>\n",
       "      <td>20204</td>\n",
       "      <td>No</td>\n",
       "      <td>BOGOTÁ</td>\n",
       "      <td>BOGOTÁ D.C.</td>\n",
       "      <td>Estrato 1</td>\n",
       "      <td>Técnica o tecnológica completa</td>\n",
       "      <td>Técnica o tecnológica incompleta</td>\n",
       "      <td>Si</td>\n",
       "      <td>...</td>\n",
       "      <td>3</td>\n",
       "      <td>63</td>\n",
       "      <td>3</td>\n",
       "      <td>67</td>\n",
       "      <td>3</td>\n",
       "      <td>51.0</td>\n",
       "      <td>A1</td>\n",
       "      <td>321</td>\n",
       "      <td>57.286312</td>\n",
       "      <td>NO</td>\n",
       "    </tr>\n",
       "    <tr>\n",
       "      <th>3</th>\n",
       "      <td>M</td>\n",
       "      <td>05/03/2004</td>\n",
       "      <td>20204</td>\n",
       "      <td>No</td>\n",
       "      <td>BOGOTÁ</td>\n",
       "      <td>BOGOTÁ D.C.</td>\n",
       "      <td>Estrato 3</td>\n",
       "      <td>Postgrado</td>\n",
       "      <td>Educación profesional completa</td>\n",
       "      <td>Si</td>\n",
       "      <td>...</td>\n",
       "      <td>3</td>\n",
       "      <td>75</td>\n",
       "      <td>4</td>\n",
       "      <td>67</td>\n",
       "      <td>3</td>\n",
       "      <td>67.0</td>\n",
       "      <td>A2</td>\n",
       "      <td>338</td>\n",
       "      <td>67.476602</td>\n",
       "      <td>NO</td>\n",
       "    </tr>\n",
       "    <tr>\n",
       "      <th>4</th>\n",
       "      <td>M</td>\n",
       "      <td>30/08/2003</td>\n",
       "      <td>20204</td>\n",
       "      <td>No</td>\n",
       "      <td>TOLIMA</td>\n",
       "      <td>GUAMO</td>\n",
       "      <td>Estrato 1</td>\n",
       "      <td>Primaria completa</td>\n",
       "      <td>Secundaria (Bachillerato) incompleta</td>\n",
       "      <td>Si</td>\n",
       "      <td>...</td>\n",
       "      <td>2</td>\n",
       "      <td>45</td>\n",
       "      <td>2</td>\n",
       "      <td>40</td>\n",
       "      <td>1</td>\n",
       "      <td>29.0</td>\n",
       "      <td>A-</td>\n",
       "      <td>225</td>\n",
       "      <td>43.877158</td>\n",
       "      <td>GENERACION E - GRATUIDAD</td>\n",
       "    </tr>\n",
       "  </tbody>\n",
       "</table>\n",
       "<p>5 rows × 25 columns</p>\n",
       "</div>"
      ],
      "text/plain": [
       "  ESTU_GENERO ESTU_FECHANACIMIENTO  PERIODO ESTU_TIENEETNIA ESTU_DEPTO_RESIDE  \\\n",
       "0           M           03/07/2003    20204              No            CALDAS   \n",
       "1           F           16/06/2003    20204              No            BOGOTÁ   \n",
       "2           F           11/09/2003    20204              No            BOGOTÁ   \n",
       "3           M           05/03/2004    20204              No            BOGOTÁ   \n",
       "4           M           30/08/2003    20204              No            TOLIMA   \n",
       "\n",
       "  ESTU_MCPIO_RESIDE FAMI_ESTRATOVIVIENDA                 FAMI_EDUCACIONPADRE  \\\n",
       "0         CHINCHINÁ            Estrato 5  Secundaria (Bachillerato) completa   \n",
       "1       BOGOTÁ D.C.            Estrato 3                           Postgrado   \n",
       "2       BOGOTÁ D.C.            Estrato 1      Técnica o tecnológica completa   \n",
       "3       BOGOTÁ D.C.            Estrato 3                           Postgrado   \n",
       "4             GUAMO            Estrato 1                   Primaria completa   \n",
       "\n",
       "                    FAMI_EDUCACIONMADRE FAMI_TIENEINTERNET  ...  \\\n",
       "0    Secundaria (Bachillerato) completa                 Si  ...   \n",
       "1        Educación profesional completa                 Si  ...   \n",
       "2      Técnica o tecnológica incompleta                 Si  ...   \n",
       "3        Educación profesional completa                 Si  ...   \n",
       "4  Secundaria (Bachillerato) incompleta                 Si  ...   \n",
       "\n",
       "  DESEMP_MATEMATICAS PUNT_C_NATURALES  DESEMP_C_NATURALES  \\\n",
       "0                  3               50                   2   \n",
       "1                  3               63                   3   \n",
       "2                  3               63                   3   \n",
       "3                  3               75                   4   \n",
       "4                  2               45                   2   \n",
       "\n",
       "   PUNT_SOCIALES_CIUDADANAS  DESEMP_SOCIALES_CIUDADANAS  PUNT_INGLES  \\\n",
       "0                        56                           3         48.0   \n",
       "1                        57                           3         58.0   \n",
       "2                        67                           3         51.0   \n",
       "3                        67                           3         67.0   \n",
       "4                        40                           1         29.0   \n",
       "\n",
       "   DESEMP_INGLES  PUNT_GLOBAL  ESTU_INSE_INDIVIDUAL         ESTU_GENERACION-E  \n",
       "0             A1          261             61.340840                        NO  \n",
       "1             A2          306             71.825844                        NO  \n",
       "2             A1          321             57.286312                        NO  \n",
       "3             A2          338             67.476602                        NO  \n",
       "4             A-          225             43.877158  GENERACION E - GRATUIDAD  \n",
       "\n",
       "[5 rows x 25 columns]"
      ]
     },
     "execution_count": 50,
     "metadata": {},
     "output_type": "execute_result"
    }
   ],
   "source": [
    "df_est.head()"
   ]
  },
  {
   "cell_type": "code",
   "execution_count": null,
   "id": "abe863d2",
   "metadata": {},
   "outputs": [],
   "source": []
  }
 ],
 "metadata": {
  "kernelspec": {
   "display_name": "Python 3",
   "language": "python",
   "name": "python3"
  },
  "language_info": {
   "codemirror_mode": {
    "name": "ipython",
    "version": 3
   },
   "file_extension": ".py",
   "mimetype": "text/x-python",
   "name": "python",
   "nbconvert_exporter": "python",
   "pygments_lexer": "ipython3",
   "version": "3.9.2"
  },
  "vscode": {
   "interpreter": {
    "hash": "4782acc787906a052b02a8719154688c4057526e0d7b210fdd0c88a7a79ab863"
   }
  }
 },
 "nbformat": 4,
 "nbformat_minor": 5
}
